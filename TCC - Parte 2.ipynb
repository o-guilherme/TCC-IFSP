{
 "cells": [
  {
   "cell_type": "markdown",
   "id": "a62e32e0-4186-425d-ba98-ea637ce519e3",
   "metadata": {},
   "source": [
    "# IFSP - Câmpus Campinas\n",
    "\n",
    "## Análise sobre a previsibilidade das decisões de admissibilidade no Superior Tribunal de Justiça usando inteligência artificial\n",
    "\n",
    "#### Aluno: Guilherme Cioldin Dainese\n",
    "\n",
    "### Parte 2 - Pré-processamento e filtragem"
   ]
  },
  {
   "cell_type": "markdown",
   "id": "d667e3a1-41bb-43ac-b500-39f85e511b57",
   "metadata": {},
   "source": [
    "Seguindo do arquivo gerado na parte anterior, essa parte consiste no pré-processamento, limpeza e análise exploratória do dataset obtido, bem como filtragem dos dados para seleção dos candidatos para preparação do corpus de treinamento."
   ]
  },
  {
   "cell_type": "markdown",
   "id": "8397f9ef-6db2-4318-8a27-b56e3d273b02",
   "metadata": {},
   "source": [
    "### 1. Pré-processamento"
   ]
  },
  {
   "cell_type": "code",
   "execution_count": 1,
   "id": "3488cf43-d239-4fb4-bc64-63ecfe453bc9",
   "metadata": {},
   "outputs": [],
   "source": [
    "#Carregando módulos utilizados nesse notebook\n",
    "from pytz import timezone\n",
    "import pandas as pd\n",
    "pd.set_option('future.no_silent_downcasting', True) #Opção para o Pandas não dar FutureWarning (o código está adequado ao novo modo já)"
   ]
  },
  {
   "cell_type": "code",
   "execution_count": 2,
   "id": "2786a11b-d813-4b4d-9502-6dff7e19f63d",
   "metadata": {},
   "outputs": [
    {
     "name": "stdout",
     "output_type": "stream",
     "text": [
      "O dataset possui 751914 entradas em 12 colunas/features.\n"
     ]
    }
   ],
   "source": [
    "df = pd.read_feather('./dataframes/json_raw.feather')\n",
    "print(f'O dataset possui {df.shape[0]} entradas em {df.shape[1]} colunas/features.')"
   ]
  },
  {
   "cell_type": "code",
   "execution_count": 3,
   "id": "a3312fb2-a744-4ac7-8677-7659bd1441e2",
   "metadata": {},
   "outputs": [
    {
     "data": {
      "text/html": [
       "<div>\n",
       "<style scoped>\n",
       "    .dataframe tbody tr th:only-of-type {\n",
       "        vertical-align: middle;\n",
       "    }\n",
       "\n",
       "    .dataframe tbody tr th {\n",
       "        vertical-align: top;\n",
       "    }\n",
       "\n",
       "    .dataframe thead th {\n",
       "        text-align: right;\n",
       "    }\n",
       "</style>\n",
       "<table border=\"1\" class=\"dataframe\">\n",
       "  <thead>\n",
       "    <tr style=\"text-align: right;\">\n",
       "      <th></th>\n",
       "      <th>seqDocumento</th>\n",
       "      <th>dataPublicacao</th>\n",
       "      <th>tipoDocumento</th>\n",
       "      <th>numeroRegistro</th>\n",
       "      <th>processo</th>\n",
       "      <th>dataRecebimento</th>\n",
       "      <th>dataDistribuicao</th>\n",
       "      <th>ministro</th>\n",
       "      <th>recurso</th>\n",
       "      <th>teor</th>\n",
       "      <th>descricaoMonocratica</th>\n",
       "      <th>assuntos</th>\n",
       "    </tr>\n",
       "  </thead>\n",
       "  <tbody>\n",
       "    <tr>\n",
       "      <th>0</th>\n",
       "      <td>163410022</td>\n",
       "      <td>1662001200000</td>\n",
       "      <td>ACÓRDÃO</td>\n",
       "      <td>202103427345</td>\n",
       "      <td>REsp 2005877</td>\n",
       "      <td>1634871600000</td>\n",
       "      <td>1635303600000</td>\n",
       "      <td>NANCY ANDRIGHI</td>\n",
       "      <td>None</td>\n",
       "      <td>Concedendo</td>\n",
       "      <td>None</td>\n",
       "      <td>5825;5825</td>\n",
       "    </tr>\n",
       "    <tr>\n",
       "      <th>1</th>\n",
       "      <td>162915181</td>\n",
       "      <td>1662001200000</td>\n",
       "      <td>ACÓRDÃO</td>\n",
       "      <td>202102019306</td>\n",
       "      <td>REsp 1946637</td>\n",
       "      <td>1624849200000</td>\n",
       "      <td>1626318000000</td>\n",
       "      <td>MANOEL ERHARDT (DESEMBARGADOR CONVOCADO DO TRF5)</td>\n",
       "      <td>AGRAVO INTERNO</td>\n",
       "      <td>Concedendo</td>\n",
       "      <td>None</td>\n",
       "      <td>6060;6060;5994</td>\n",
       "    </tr>\n",
       "    <tr>\n",
       "      <th>2</th>\n",
       "      <td>163409979</td>\n",
       "      <td>1662001200000</td>\n",
       "      <td>ACÓRDÃO</td>\n",
       "      <td>202102897496</td>\n",
       "      <td>REsp 1959435</td>\n",
       "      <td>1630638000000</td>\n",
       "      <td>1632366000000</td>\n",
       "      <td>NANCY ANDRIGHI</td>\n",
       "      <td>None</td>\n",
       "      <td>Concedendo</td>\n",
       "      <td>None</td>\n",
       "      <td>10470;10470</td>\n",
       "    </tr>\n",
       "    <tr>\n",
       "      <th>3</th>\n",
       "      <td>163239479</td>\n",
       "      <td>1662001200000</td>\n",
       "      <td>ACÓRDÃO</td>\n",
       "      <td>201301198451</td>\n",
       "      <td>REsp 1382933</td>\n",
       "      <td>1366945200000</td>\n",
       "      <td>1371006000000</td>\n",
       "      <td>ASSUSETE MAGALHÃES</td>\n",
       "      <td>AGRAVO INTERNO</td>\n",
       "      <td>Negando</td>\n",
       "      <td>None</td>\n",
       "      <td>10305;10221</td>\n",
       "    </tr>\n",
       "    <tr>\n",
       "      <th>4</th>\n",
       "      <td>163227292</td>\n",
       "      <td>1662001200000</td>\n",
       "      <td>ACÓRDÃO</td>\n",
       "      <td>202201220906</td>\n",
       "      <td>REsp 1999207</td>\n",
       "      <td>1651201200000</td>\n",
       "      <td>1653015600000</td>\n",
       "      <td>MARCO BUZZI</td>\n",
       "      <td>AGRAVO INTERNO</td>\n",
       "      <td>Negando</td>\n",
       "      <td>None</td>\n",
       "      <td>10496;10496;14919;14920</td>\n",
       "    </tr>\n",
       "  </tbody>\n",
       "</table>\n",
       "</div>"
      ],
      "text/plain": [
       "   seqDocumento  dataPublicacao tipoDocumento  numeroRegistro  \\\n",
       "0     163410022   1662001200000       ACÓRDÃO    202103427345   \n",
       "1     162915181   1662001200000       ACÓRDÃO    202102019306   \n",
       "2     163409979   1662001200000       ACÓRDÃO    202102897496   \n",
       "3     163239479   1662001200000       ACÓRDÃO    201301198451   \n",
       "4     163227292   1662001200000       ACÓRDÃO    202201220906   \n",
       "\n",
       "           processo  dataRecebimento  dataDistribuicao  \\\n",
       "0  REsp 2005877        1634871600000     1635303600000   \n",
       "1  REsp 1946637        1624849200000     1626318000000   \n",
       "2  REsp 1959435        1630638000000     1632366000000   \n",
       "3  REsp 1382933        1366945200000     1371006000000   \n",
       "4  REsp 1999207        1651201200000     1653015600000   \n",
       "\n",
       "                                           ministro         recurso  \\\n",
       "0                                    NANCY ANDRIGHI            None   \n",
       "1  MANOEL ERHARDT (DESEMBARGADOR CONVOCADO DO TRF5)  AGRAVO INTERNO   \n",
       "2                                    NANCY ANDRIGHI            None   \n",
       "3                                ASSUSETE MAGALHÃES  AGRAVO INTERNO   \n",
       "4                                       MARCO BUZZI  AGRAVO INTERNO   \n",
       "\n",
       "         teor descricaoMonocratica                 assuntos  \n",
       "0  Concedendo                 None                5825;5825  \n",
       "1  Concedendo                 None           6060;6060;5994  \n",
       "2  Concedendo                 None              10470;10470  \n",
       "3     Negando                 None              10305;10221  \n",
       "4     Negando                 None  10496;10496;14919;14920  "
      ]
     },
     "execution_count": 3,
     "metadata": {},
     "output_type": "execute_result"
    }
   ],
   "source": [
    "df.head()"
   ]
  },
  {
   "cell_type": "markdown",
   "id": "0aaa7594-ad53-4b7a-9754-a84cd73abe24",
   "metadata": {},
   "source": [
    "#### 1.1 Removendo entradas duplicadas\n",
    "\n",
    "O campo `seqDocumento` é o identificador principal do conjunto, vez que se refere a uma decisão específica. Usaremos ele como campo principal para remover eventuais entradas duplicadas."
   ]
  },
  {
   "cell_type": "code",
   "execution_count": 4,
   "id": "411e34c0-fb6c-44f1-8203-d837cb863f25",
   "metadata": {},
   "outputs": [
    {
     "name": "stdout",
     "output_type": "stream",
     "text": [
      "O dataset agora possui 739612 entradas em 12 colunas/features.\n"
     ]
    }
   ],
   "source": [
    "#Remove entradas duplicadas, utilizando o 'seqDocumento' como chave\n",
    "df.drop_duplicates(subset=['seqDocumento'], keep = 'last', inplace=True, ignore_index=True)\n",
    "print(f'O dataset agora possui {df.shape[0]} entradas em {df.shape[1]} colunas/features.')"
   ]
  },
  {
   "cell_type": "code",
   "execution_count": 5,
   "id": "07e11439-d1c3-464d-b36e-52202568edd5",
   "metadata": {},
   "outputs": [
    {
     "data": {
      "text/plain": [
       "seqDocumento             int64\n",
       "dataPublicacao           int64\n",
       "tipoDocumento           object\n",
       "numeroRegistro           int64\n",
       "processo                object\n",
       "dataRecebimento          int64\n",
       "dataDistribuicao         int64\n",
       "ministro                object\n",
       "recurso                 object\n",
       "teor                    object\n",
       "descricaoMonocratica    object\n",
       "assuntos                object\n",
       "dtype: object"
      ]
     },
     "execution_count": 5,
     "metadata": {},
     "output_type": "execute_result"
    }
   ],
   "source": [
    "#Exibe os tipos de dados do dataset\n",
    "df.dtypes"
   ]
  },
  {
   "cell_type": "markdown",
   "id": "c1f7acf9-a968-4f01-98cc-398808817086",
   "metadata": {},
   "source": [
    "#### 1.2 Convertendo os horários\n",
    "\n",
    "As colunas `'dataPublicacao'`, `'dataRecebimento'` e `'dataDistribuicao'` são de data, porém estão como int64. Para isso iremos ajustar os tipos de dados no pandas para datetime.\n",
    "\n",
    "De se observar que simplesmente usar o módulo 'to_datetime' deixa os horários errados pois têm que ser considerado o horário de Brasília mas ele simplemsmente converte para hora UTC.\n",
    "Por isso usaremos o tz_convert para converter no horário UTC-3 do Brasil."
   ]
  },
  {
   "cell_type": "code",
   "execution_count": 6,
   "id": "a6ef986d-00bd-4cf8-bfe4-e4f5acd78ad6",
   "metadata": {},
   "outputs": [
    {
     "data": {
      "text/html": [
       "<div>\n",
       "<style scoped>\n",
       "    .dataframe tbody tr th:only-of-type {\n",
       "        vertical-align: middle;\n",
       "    }\n",
       "\n",
       "    .dataframe tbody tr th {\n",
       "        vertical-align: top;\n",
       "    }\n",
       "\n",
       "    .dataframe thead th {\n",
       "        text-align: right;\n",
       "    }\n",
       "</style>\n",
       "<table border=\"1\" class=\"dataframe\">\n",
       "  <thead>\n",
       "    <tr style=\"text-align: right;\">\n",
       "      <th></th>\n",
       "      <th>seqDocumento</th>\n",
       "      <th>dataPublicacao</th>\n",
       "      <th>tipoDocumento</th>\n",
       "      <th>numeroRegistro</th>\n",
       "      <th>processo</th>\n",
       "      <th>dataRecebimento</th>\n",
       "      <th>dataDistribuicao</th>\n",
       "      <th>ministro</th>\n",
       "      <th>recurso</th>\n",
       "      <th>teor</th>\n",
       "      <th>descricaoMonocratica</th>\n",
       "      <th>assuntos</th>\n",
       "    </tr>\n",
       "  </thead>\n",
       "  <tbody>\n",
       "    <tr>\n",
       "      <th>739607</th>\n",
       "      <td>224027345</td>\n",
       "      <td>2024-01-14 23:00:00-03:00</td>\n",
       "      <td>DECISÃO</td>\n",
       "      <td>202301309450</td>\n",
       "      <td>AREsp 2343988</td>\n",
       "      <td>2023-04-20 00:00:00-03:00</td>\n",
       "      <td>2023-05-19 00:00:00-03:00</td>\n",
       "      <td>REYNALDO SOARES DA FONSECA</td>\n",
       "      <td>None</td>\n",
       "      <td>Concedendo</td>\n",
       "      <td>Agravo conhecido para dar parcial provimento a...</td>\n",
       "      <td>10621;3637;5555;5566;10621;12334</td>\n",
       "    </tr>\n",
       "    <tr>\n",
       "      <th>739608</th>\n",
       "      <td>223999858</td>\n",
       "      <td>2024-01-14 23:00:00-03:00</td>\n",
       "      <td>DECISÃO</td>\n",
       "      <td>202301132414</td>\n",
       "      <td>HC 814406</td>\n",
       "      <td>2023-04-04 00:00:00-03:00</td>\n",
       "      <td>2023-04-10 00:00:00-03:00</td>\n",
       "      <td>REYNALDO SOARES DA FONSECA</td>\n",
       "      <td>None</td>\n",
       "      <td>Concedendo</td>\n",
       "      <td>Não conhecido o Habeas Corpus. Concedido o Hab...</td>\n",
       "      <td>3628;3628;3628</td>\n",
       "    </tr>\n",
       "    <tr>\n",
       "      <th>739609</th>\n",
       "      <td>224007770</td>\n",
       "      <td>2024-01-14 23:00:00-03:00</td>\n",
       "      <td>DECISÃO</td>\n",
       "      <td>202301118658</td>\n",
       "      <td>AREsp 2330257</td>\n",
       "      <td>2023-04-04 00:00:00-03:00</td>\n",
       "      <td>2023-04-13 00:00:00-03:00</td>\n",
       "      <td>REYNALDO SOARES DA FONSECA</td>\n",
       "      <td>AGRAVO REGIMENTAL</td>\n",
       "      <td>Concedendo</td>\n",
       "      <td>Agravo conhecido para dar provimento ao Recurs...</td>\n",
       "      <td>3372;3372;10637</td>\n",
       "    </tr>\n",
       "    <tr>\n",
       "      <th>739610</th>\n",
       "      <td>224040816</td>\n",
       "      <td>2024-01-14 23:00:00-03:00</td>\n",
       "      <td>DECISÃO</td>\n",
       "      <td>202002489460</td>\n",
       "      <td>AREsp 1764530</td>\n",
       "      <td>2020-09-22 00:00:00-03:00</td>\n",
       "      <td>2020-10-06 00:00:00-03:00</td>\n",
       "      <td>SEBASTIÃO REIS JÚNIOR</td>\n",
       "      <td>None</td>\n",
       "      <td>Concedendo</td>\n",
       "      <td>Agravo conhecido para dar provimento ao Recurs...</td>\n",
       "      <td>3608;3608</td>\n",
       "    </tr>\n",
       "    <tr>\n",
       "      <th>739611</th>\n",
       "      <td>224056232</td>\n",
       "      <td>2024-01-14 23:00:00-03:00</td>\n",
       "      <td>DECISÃO</td>\n",
       "      <td>202400008931</td>\n",
       "      <td>SLS 3387</td>\n",
       "      <td>2024-01-08 23:00:00-03:00</td>\n",
       "      <td>2024-01-08 23:00:00-03:00</td>\n",
       "      <td>MARIA THEREZA DE ASSIS MOURA</td>\n",
       "      <td>None</td>\n",
       "      <td>Concedendo</td>\n",
       "      <td>Julgado procedente o pedido</td>\n",
       "      <td>10073;10073</td>\n",
       "    </tr>\n",
       "  </tbody>\n",
       "</table>\n",
       "</div>"
      ],
      "text/plain": [
       "        seqDocumento            dataPublicacao tipoDocumento  numeroRegistro  \\\n",
       "739607     224027345 2024-01-14 23:00:00-03:00       DECISÃO    202301309450   \n",
       "739608     223999858 2024-01-14 23:00:00-03:00       DECISÃO    202301132414   \n",
       "739609     224007770 2024-01-14 23:00:00-03:00       DECISÃO    202301118658   \n",
       "739610     224040816 2024-01-14 23:00:00-03:00       DECISÃO    202002489460   \n",
       "739611     224056232 2024-01-14 23:00:00-03:00       DECISÃO    202400008931   \n",
       "\n",
       "                 processo           dataRecebimento          dataDistribuicao  \\\n",
       "739607  AREsp 2343988     2023-04-20 00:00:00-03:00 2023-05-19 00:00:00-03:00   \n",
       "739608     HC 814406      2023-04-04 00:00:00-03:00 2023-04-10 00:00:00-03:00   \n",
       "739609  AREsp 2330257     2023-04-04 00:00:00-03:00 2023-04-13 00:00:00-03:00   \n",
       "739610  AREsp 1764530     2020-09-22 00:00:00-03:00 2020-10-06 00:00:00-03:00   \n",
       "739611    SLS 3387        2024-01-08 23:00:00-03:00 2024-01-08 23:00:00-03:00   \n",
       "\n",
       "                            ministro            recurso        teor  \\\n",
       "739607    REYNALDO SOARES DA FONSECA               None  Concedendo   \n",
       "739608    REYNALDO SOARES DA FONSECA               None  Concedendo   \n",
       "739609    REYNALDO SOARES DA FONSECA  AGRAVO REGIMENTAL  Concedendo   \n",
       "739610         SEBASTIÃO REIS JÚNIOR               None  Concedendo   \n",
       "739611  MARIA THEREZA DE ASSIS MOURA               None  Concedendo   \n",
       "\n",
       "                                     descricaoMonocratica  \\\n",
       "739607  Agravo conhecido para dar parcial provimento a...   \n",
       "739608  Não conhecido o Habeas Corpus. Concedido o Hab...   \n",
       "739609  Agravo conhecido para dar provimento ao Recurs...   \n",
       "739610  Agravo conhecido para dar provimento ao Recurs...   \n",
       "739611                        Julgado procedente o pedido   \n",
       "\n",
       "                                assuntos  \n",
       "739607  10621;3637;5555;5566;10621;12334  \n",
       "739608                    3628;3628;3628  \n",
       "739609                   3372;3372;10637  \n",
       "739610                         3608;3608  \n",
       "739611                       10073;10073  "
      ]
     },
     "execution_count": 6,
     "metadata": {},
     "output_type": "execute_result"
    }
   ],
   "source": [
    "brtz = timezone('America/Sao_Paulo') #Ajusta a timezone para correção da hora no dataset\n",
    "df['dataPublicacao'] = pd.to_datetime(df['dataPublicacao'], unit='ms',utc=True)\n",
    "df['dataRecebimento'] = pd.to_datetime(df['dataRecebimento'], unit='ms',utc=True)\n",
    "df['dataDistribuicao'] = pd.to_datetime(df['dataDistribuicao'], unit='ms',utc=True)\n",
    "df['dataPublicacao'] = df['dataPublicacao'].dt.tz_convert(brtz)\n",
    "df['dataRecebimento'] = df['dataRecebimento'].dt.tz_convert(brtz)\n",
    "df['dataDistribuicao'] = df['dataDistribuicao'].dt.tz_convert(brtz)\n",
    "df.tail()"
   ]
  },
  {
   "cell_type": "markdown",
   "id": "578f3210-1284-4c4e-aba5-31a8dac76fb2",
   "metadata": {},
   "source": [
    "As decisões constam com data de publicação, mas como se pode ver no excerto do dataframe, as datas de recebimento são muito variadas.\n",
    "\n",
    "Isso se dá porque os processos não são necessariamente julgados em ordem cronológica.\n",
    "\n",
    "Em razão disso eliminaremos as entradas com data de *recebimento* anteriores à 01/09/2022.\n",
    "\n",
    "A data de Distribuição não é utilizada pois a distribuição ocorre posterior ao recebimento."
   ]
  },
  {
   "cell_type": "code",
   "execution_count": 7,
   "id": "ef7edb3f-d889-4888-af17-f90a29f36fa3",
   "metadata": {},
   "outputs": [
    {
     "name": "stdout",
     "output_type": "stream",
     "text": [
      "O dataset agora possui 496150 entradas em 12 colunas/features.\n"
     ]
    }
   ],
   "source": [
    "# Filtra para excluir entradas anteriores à data de corte\n",
    "df = df[df['dataRecebimento'] >= pd.Timestamp('2022-09-01 00:00:00', tz='America/Sao_Paulo')]\n",
    "df = df.reset_index(drop=True)\n",
    "print(f'O dataset agora possui {df.shape[0]} entradas em {df.shape[1]} colunas/features.')"
   ]
  },
  {
   "cell_type": "markdown",
   "id": "e0072195-7fbe-4c0b-b4ac-9dddd67707f9",
   "metadata": {},
   "source": [
    "#### 1.3 Organizando a coluna `processo`\n",
    "\n",
    "A coluna `processo` possui dois tipos de dado em uma única coluna; a classe processual e o número de ordem dessa classe processual dentro da Corte.\n",
    "\n",
    "Para tanto é necessário separar os tipos de dados presente nesse campo, inclusive para obtermos a classe processual."
   ]
  },
  {
   "cell_type": "code",
   "execution_count": 8,
   "id": "6db988e7-41f8-4367-bbf7-2ee5fd7d81ee",
   "metadata": {},
   "outputs": [],
   "source": [
    "#Criando a nova coluna para o número\n",
    "df.insert(df.columns.get_loc('processo') + 1, 'numeroProcesso', None)"
   ]
  },
  {
   "cell_type": "code",
   "execution_count": 9,
   "id": "78202f30-9b18-46ff-b217-94ea837c5dd8",
   "metadata": {},
   "outputs": [],
   "source": [
    "#Extraindo o número para a coluna numeroProcesso\n",
    "df['numeroProcesso'] = df['processo'].str.extract(r'(\\s\\d+)')\n",
    "df['processo'] = df['processo'].str.replace(r'(\\s\\d+)', '',regex=True)\n",
    "df['numeroProcesso'] = df['numeroProcesso'].astype('int64')"
   ]
  },
  {
   "cell_type": "code",
   "execution_count": 10,
   "id": "4482f8d6-724c-44f0-8d29-bce4598b0260",
   "metadata": {},
   "outputs": [],
   "source": [
    "#Removendo os espaços em branco remanescentes\n",
    "df['processo'] = df['processo'].str.replace(r'\\s+', '', regex=True)"
   ]
  },
  {
   "cell_type": "code",
   "execution_count": 11,
   "id": "1bb8427d-5a86-4aed-b481-f681fc77d79e",
   "metadata": {},
   "outputs": [],
   "source": [
    "#Renomeando a coluna\n",
    "df = df.rename(columns={'processo': 'classeProcesso'})"
   ]
  },
  {
   "cell_type": "code",
   "execution_count": 12,
   "id": "60cb6923-41fb-480b-8178-a98241a6cb5e",
   "metadata": {},
   "outputs": [
    {
     "data": {
      "text/plain": [
       "seqDocumento                                        int64\n",
       "dataPublicacao          datetime64[ns, America/Sao_Paulo]\n",
       "tipoDocumento                                      object\n",
       "numeroRegistro                                      int64\n",
       "classeProcesso                                     object\n",
       "numeroProcesso                                      int64\n",
       "dataRecebimento         datetime64[ns, America/Sao_Paulo]\n",
       "dataDistribuicao        datetime64[ns, America/Sao_Paulo]\n",
       "ministro                                           object\n",
       "recurso                                            object\n",
       "teor                                               object\n",
       "descricaoMonocratica                               object\n",
       "assuntos                                           object\n",
       "dtype: object"
      ]
     },
     "execution_count": 12,
     "metadata": {},
     "output_type": "execute_result"
    }
   ],
   "source": [
    "df.dtypes"
   ]
  },
  {
   "cell_type": "markdown",
   "id": "91814d6d-4508-493d-83e2-78b53c54216a",
   "metadata": {},
   "source": [
    "#### 1.4 Fazendo o *encoding* da coluna `tipoDocumento`\n",
    "\n",
    "A coluna tipoDocumento possui apenas dois valores (DECISÃO e ACÓRDÃO).\n",
    "\n",
    "Ela pode ser representada numericamente. Convém fazer o *encoding* dos valores."
   ]
  },
  {
   "cell_type": "code",
   "execution_count": 13,
   "id": "1b992b06-c7d4-48ce-a7d6-e1b642a03a34",
   "metadata": {},
   "outputs": [
    {
     "data": {
      "text/plain": [
       "tipoDocumento\n",
       "DECISÃO    419066\n",
       "ACÓRDÃO     77084\n",
       "Name: count, dtype: int64"
      ]
     },
     "execution_count": 13,
     "metadata": {},
     "output_type": "execute_result"
    }
   ],
   "source": [
    "#Confirmando os tipos de dados\n",
    "df['tipoDocumento'].value_counts()"
   ]
  },
  {
   "cell_type": "code",
   "execution_count": 14,
   "id": "31344ee9-6eaf-4287-a6c1-dc505ea9050c",
   "metadata": {},
   "outputs": [],
   "source": [
    "#Substituindo os valores e renomeando a coluna\n",
    "df['tipoDocumento'] = df['tipoDocumento'].replace({'ACÓRDÃO': 1, 'DECISÃO': 0}).infer_objects(copy=False)\n",
    "df = df.rename(columns={'tipoDocumento': 'isAcordao'})"
   ]
  },
  {
   "cell_type": "code",
   "execution_count": 15,
   "id": "6ed75ce6-8e17-487d-8c4c-e35851c37b1d",
   "metadata": {},
   "outputs": [
    {
     "data": {
      "text/plain": [
       "isAcordao\n",
       "0    419066\n",
       "1     77084\n",
       "Name: count, dtype: int64"
      ]
     },
     "execution_count": 15,
     "metadata": {},
     "output_type": "execute_result"
    }
   ],
   "source": [
    "df['isAcordao'].value_counts()"
   ]
  },
  {
   "cell_type": "markdown",
   "id": "6082d93b-2079-4ad1-868c-8a1c30fb7447",
   "metadata": {},
   "source": [
    "#### 1.5 Organizando a coluna `assuntos`\n",
    "\n",
    "A coluna assuntos é especialmente relevante para podermos selecionar assuntos similares e fazermos comparações justas entre as decisões concedendo e negando. \n",
    "\n",
    "Porém um simples exame do dataset demonstra que alguns valores estão repetidos. Para tanto é necessário separá-los e organizá-los."
   ]
  },
  {
   "cell_type": "code",
   "execution_count": 16,
   "id": "88907de5-1955-42d4-b631-52f61fa9e8e3",
   "metadata": {},
   "outputs": [],
   "source": [
    "#Criando uma função simples para organizar os repetidos\n",
    "def assuntos_unicos(entrada):\n",
    "    assuntos = entrada.split(',')\n",
    "    return ','.join(sorted(list(set(assuntos))))"
   ]
  },
  {
   "cell_type": "code",
   "execution_count": 17,
   "id": "fb7e4b91-1193-4375-8f93-24f2768cbaf0",
   "metadata": {},
   "outputs": [],
   "source": [
    "#Aplicando a função no dataset\n",
    "df['assuntos'] = df['assuntos'].str.replace(' ', '')\n",
    "df['assuntos'] = df['assuntos'].str.replace(';', ',')\n",
    "df['assuntos'] = df['assuntos'].apply(lambda x: assuntos_unicos(x))"
   ]
  },
  {
   "cell_type": "code",
   "execution_count": 18,
   "id": "85d515ca-3048-43ab-b9f4-e84e48446638",
   "metadata": {},
   "outputs": [
    {
     "data": {
      "text/plain": [
       "assuntos\n",
       "3608                   35085\n",
       "5566                   10271\n",
       "3372                    8217\n",
       "3608,5897               7253\n",
       "9607                    6018\n",
       "                       ...  \n",
       "5994,6011,6056,6060        1\n",
       "10158,6017,6085            1\n",
       "3572,3608,5885             1\n",
       "10425,10582,9596           1\n",
       "10671,11802,11839          1\n",
       "Name: count, Length: 55918, dtype: int64"
      ]
     },
     "execution_count": 18,
     "metadata": {},
     "output_type": "execute_result"
    }
   ],
   "source": [
    "df['assuntos'].value_counts()"
   ]
  },
  {
   "cell_type": "markdown",
   "id": "2f04b6e8-ce1e-472a-b4a1-bd3325e0d17a",
   "metadata": {},
   "source": [
    "#### 1.6 Limpando a coluna descrição monocrática\n",
    "\n",
    "Algumas entradas no campo descrição monocrática possuem texto a ser limpo."
   ]
  },
  {
   "cell_type": "code",
   "execution_count": 19,
   "id": "293b7718-45a3-440f-a875-0234a6b4cca8",
   "metadata": {},
   "outputs": [],
   "source": [
    "df['descricaoMonocratica'] = df['descricaoMonocratica'].str.replace('\\r\\n', '', regex=False)"
   ]
  },
  {
   "cell_type": "markdown",
   "id": "bc16ff51-9767-4a81-ac9d-dcc8982b31b0",
   "metadata": {},
   "source": [
    "### 2. Filtragem dos dados\n",
    "\n",
    "O *dataset* está relativamente organizado para seguirmos com o projeto.\n",
    "\n",
    "Agora precisamos filtrar os que seguirão para análise.\n",
    "\n",
    "Importante lembrar que a filtragem pela data foi realizada na etapa 1.2, acima."
   ]
  },
  {
   "cell_type": "markdown",
   "id": "0e8249fc-d55b-435c-9c3a-a9c42b4c7ba6",
   "metadata": {},
   "source": [
    "#### 2.1 Filtragem pela classe processual\n",
    "\n",
    "Primeiramente, é necessário selecionar os tipos de processos relevantes.\n",
    "\n",
    "Selecionaremos somente os processos de Recurso Especial e Agravos em Recurso Especial pois são os únicos que tratam diretamente do recurso objeto de estudo."
   ]
  },
  {
   "cell_type": "code",
   "execution_count": 20,
   "id": "753a28a7-5909-4fe3-b661-12b0b98bad42",
   "metadata": {},
   "outputs": [
    {
     "data": {
      "text/plain": [
       "classeProcesso\n",
       "AREsp    284447\n",
       "REsp      75549\n",
       "Name: count, dtype: int64"
      ]
     },
     "execution_count": 20,
     "metadata": {},
     "output_type": "execute_result"
    }
   ],
   "source": [
    "df = df.loc[df['classeProcesso'].isin(['AREsp', 'REsp'])].reset_index(drop=True)\n",
    "df['classeProcesso'].value_counts()"
   ]
  },
  {
   "cell_type": "markdown",
   "id": "71056901-95f3-4def-9473-56be5befafd4",
   "metadata": {},
   "source": [
    "#### 2.2 Filtragem pelos processos únicos\n",
    "\n",
    "Também convém eliminar os processos que possuem incidentes, indicados na coluna `recurso`."
   ]
  },
  {
   "cell_type": "code",
   "execution_count": 21,
   "id": "1ef68352-0e5d-468a-8639-c28dd303c07c",
   "metadata": {},
   "outputs": [
    {
     "name": "stdout",
     "output_type": "stream",
     "text": [
      "Número de processos antes da limpeza: 359996\n",
      "\n",
      "Número de após a limpeza: 204721\n"
     ]
    }
   ],
   "source": [
    "print(f'Número de processos antes da limpeza: {df.shape[0]}\\n')\n",
    "df.drop_duplicates(subset='numeroRegistro', keep=False, inplace=True, ignore_index=True) #keep=False elimina as duas entradas de dados duplicados.\n",
    "print(f'Número de após a limpeza: {df.shape[0]}')"
   ]
  },
  {
   "cell_type": "markdown",
   "id": "b6c40d67-9940-4678-b83d-5009e9cb263a",
   "metadata": {},
   "source": [
    "#### 2.3 Filtragem dos processos com incidentes\n",
    "\n",
    "A etapa anterior removeu processos que continham incidentes processuais. Porém, restam processos que somente constam os incidentes no dataset.\n",
    "\n",
    "Isso se dá porque inicalmente somente selecionamos or processos após setembro de 2022 para compor o *dataset*.\n",
    "\n",
    "Os que foram recebidos antes da data de corte mas julgados após setembro não foram excluídos na etapa anterior. Precisamos excluí-los também."
   ]
  },
  {
   "cell_type": "code",
   "execution_count": 22,
   "id": "a82e29c1-537a-4db8-8416-9b2f322d4b82",
   "metadata": {},
   "outputs": [
    {
     "data": {
      "text/plain": [
       "(203265, 12)"
      ]
     },
     "execution_count": 22,
     "metadata": {},
     "output_type": "execute_result"
    }
   ],
   "source": [
    "df = df[df['recurso'].isnull()].reset_index(drop=True)\n",
    "df.drop(columns=['recurso'], inplace=True)\n",
    "df.shape"
   ]
  },
  {
   "cell_type": "markdown",
   "id": "85503a1a-3677-4f1a-a42a-85059ee984d4",
   "metadata": {},
   "source": [
    "#### 2.4 Filtrando por assuntos\n",
    "\n",
    "Nesse momento precisamos filtrar os assuntos que comporão o dataset final.\n",
    "\n",
    "O segundo assunto mais presente nas decisões é o assunto '9607'. Consultando no sistema do CNJ (https://www.cnj.jus.br/sgt/consulta_publica_assuntos.php), verifica-se que esse assunto é um tema específico na tabela (não possui subtemas).\n",
    "\n",
    "Isso é importante pois diminuímos os efeitos que a discussão do mérito processual tem na análise das petições e, por ser um tema de direito civil, garantimos que todos os processos seguem o mesmo rito, o que não aconteceria se comparassemos a processos criminais, de improbidade administrativa ou afins, que possuem ritos diversos."
   ]
  },
  {
   "cell_type": "code",
   "execution_count": 23,
   "id": "b91a67b3-82db-47b0-9557-2093e464a9f6",
   "metadata": {},
   "outputs": [
    {
     "data": {
      "text/plain": [
       "assuntos\n",
       "3608                      6354\n",
       "9607                      3805\n",
       "5566                      2782\n",
       "6107                      2732\n",
       "7752                      2601\n",
       "                          ... \n",
       "10236,8829                   1\n",
       "10502,14033,9992             1\n",
       "10074,7691,9418              1\n",
       "10556,5938                   1\n",
       "10687,10873,10874,5994       1\n",
       "Name: count, Length: 34120, dtype: int64"
      ]
     },
     "execution_count": 23,
     "metadata": {},
     "output_type": "execute_result"
    }
   ],
   "source": [
    "df['assuntos'].value_counts()"
   ]
  },
  {
   "cell_type": "code",
   "execution_count": 24,
   "id": "e66e86e9-6c77-447a-b4e4-cd8bc82b6161",
   "metadata": {},
   "outputs": [],
   "source": [
    "#Criando função para selecionar o assunto pretendido\n",
    "#O ValueError ocorre se o formato não for int, o que significa que é uma lista com vários assuntos.\n",
    "#Logo, é uma lista e verificamos se o assunto buscado consta na lista.\n",
    "def busca_assunto(valor):\n",
    "    assunto = 9607\n",
    "    try:\n",
    "        valor = int(valor)\n",
    "        return valor == assunto\n",
    "    except ValueError: \n",
    "        valor = list(map(int, valor.split(',')))\n",
    "        return assunto in valor"
   ]
  },
  {
   "cell_type": "code",
   "execution_count": 25,
   "id": "c8fdf507-367f-4d45-9333-71fe15ea7df3",
   "metadata": {},
   "outputs": [
    {
     "name": "stdout",
     "output_type": "stream",
     "text": [
      "Número de processos com o assunto selecionado: 6411\n"
     ]
    }
   ],
   "source": [
    "df = df[df['assuntos'].apply(busca_assunto)]\n",
    "print(f'Número de processos com o assunto selecionado: {df.shape[0]}')"
   ]
  },
  {
   "cell_type": "markdown",
   "id": "5feb4efd-efdd-42fb-88b5-b883faf98429",
   "metadata": {},
   "source": [
    "#### 2.5 Preparando a coluna `y`\n",
    "\n",
    "Aqui preparamos a coluna com o valor alvo para o treinamento dos modelos.\n",
    "\n",
    "O objetivo é classificar as petições que expuseram argumentos que levaram a aceitação do recurso especial.\n",
    "\n",
    "Para tanto podemos classificar da seguinte maneira:\n",
    "```\n",
    "Para AREsps:\n",
    "    Se o AREsp for não conhecido, o valor é 0.\n",
    "    Se o AREsp for conhecido e não provido, o valor é 0.\n",
    "    Se o AREsp for conhecido e provido (ainda que provido só parcialmente), o valor é 1.\n",
    "\n",
    "Para REsps:\n",
    "    Se o REsp não foi conhecido.\n",
    "    Se o REsp for conhecido (mesmo que conhecido parcialmente, independentemente se foi provido ou não provido), o valor é 1.\n",
    "```"
   ]
  },
  {
   "cell_type": "code",
   "execution_count": 26,
   "id": "d8a8941b-8871-4838-aea9-7a98f9af28dc",
   "metadata": {},
   "outputs": [
    {
     "data": {
      "text/plain": [
       "teor\n",
       "Não Conhecendo    3932\n",
       "Negando           1756\n",
       "Concedendo         601\n",
       "Outros              88\n",
       "Deferindo            2\n",
       "Name: count, dtype: int64"
      ]
     },
     "execution_count": 26,
     "metadata": {},
     "output_type": "execute_result"
    }
   ],
   "source": [
    "df['teor'].value_counts()"
   ]
  },
  {
   "cell_type": "code",
   "execution_count": 27,
   "id": "d66eae21-ac7d-43b8-873a-125db265ff24",
   "metadata": {},
   "outputs": [],
   "source": [
    "#Removendo outras decisões\n",
    "df = df[df['teor'] != 'Outros']\n",
    "df = df.dropna(subset=['teor'])"
   ]
  },
  {
   "cell_type": "code",
   "execution_count": 28,
   "id": "5d40c465-321f-42f8-b49f-2898e3d2e238",
   "metadata": {},
   "outputs": [
    {
     "data": {
      "text/html": [
       "<div>\n",
       "<style scoped>\n",
       "    .dataframe tbody tr th:only-of-type {\n",
       "        vertical-align: middle;\n",
       "    }\n",
       "\n",
       "    .dataframe tbody tr th {\n",
       "        vertical-align: top;\n",
       "    }\n",
       "\n",
       "    .dataframe thead th {\n",
       "        text-align: right;\n",
       "    }\n",
       "</style>\n",
       "<table border=\"1\" class=\"dataframe\">\n",
       "  <thead>\n",
       "    <tr style=\"text-align: right;\">\n",
       "      <th></th>\n",
       "      <th>seqDocumento</th>\n",
       "      <th>dataPublicacao</th>\n",
       "      <th>isAcordao</th>\n",
       "      <th>numeroRegistro</th>\n",
       "      <th>classeProcesso</th>\n",
       "      <th>numeroProcesso</th>\n",
       "      <th>dataRecebimento</th>\n",
       "      <th>dataDistribuicao</th>\n",
       "      <th>ministro</th>\n",
       "      <th>teor</th>\n",
       "      <th>descricaoMonocratica</th>\n",
       "      <th>assuntos</th>\n",
       "    </tr>\n",
       "  </thead>\n",
       "  <tbody>\n",
       "    <tr>\n",
       "      <th>51997</th>\n",
       "      <td>181525945</td>\n",
       "      <td>2023-03-16 00:00:00-03:00</td>\n",
       "      <td>1</td>\n",
       "      <td>202202963138</td>\n",
       "      <td>REsp</td>\n",
       "      <td>2027862</td>\n",
       "      <td>2022-09-16 00:00:00-03:00</td>\n",
       "      <td>2022-09-30 00:00:00-03:00</td>\n",
       "      <td>NANCY ANDRIGHI</td>\n",
       "      <td>Deferindo</td>\n",
       "      <td>None</td>\n",
       "      <td>9607</td>\n",
       "    </tr>\n",
       "    <tr>\n",
       "      <th>121750</th>\n",
       "      <td>202734965</td>\n",
       "      <td>2023-08-14 00:00:00-03:00</td>\n",
       "      <td>1</td>\n",
       "      <td>202301022078</td>\n",
       "      <td>REsp</td>\n",
       "      <td>2062295</td>\n",
       "      <td>2023-03-28 00:00:00-03:00</td>\n",
       "      <td>2023-04-19 00:00:00-03:00</td>\n",
       "      <td>NANCY ANDRIGHI</td>\n",
       "      <td>Deferindo</td>\n",
       "      <td>None</td>\n",
       "      <td>10735,10737,7691,8942,9607</td>\n",
       "    </tr>\n",
       "  </tbody>\n",
       "</table>\n",
       "</div>"
      ],
      "text/plain": [
       "        seqDocumento            dataPublicacao  isAcordao  numeroRegistro  \\\n",
       "51997      181525945 2023-03-16 00:00:00-03:00          1    202202963138   \n",
       "121750     202734965 2023-08-14 00:00:00-03:00          1    202301022078   \n",
       "\n",
       "       classeProcesso  numeroProcesso           dataRecebimento  \\\n",
       "51997            REsp         2027862 2022-09-16 00:00:00-03:00   \n",
       "121750           REsp         2062295 2023-03-28 00:00:00-03:00   \n",
       "\n",
       "                dataDistribuicao        ministro       teor  \\\n",
       "51997  2022-09-30 00:00:00-03:00  NANCY ANDRIGHI  Deferindo   \n",
       "121750 2023-04-19 00:00:00-03:00  NANCY ANDRIGHI  Deferindo   \n",
       "\n",
       "       descricaoMonocratica                    assuntos  \n",
       "51997                  None                        9607  \n",
       "121750                 None  10735,10737,7691,8942,9607  "
      ]
     },
     "execution_count": 28,
     "metadata": {},
     "output_type": "execute_result"
    }
   ],
   "source": [
    "#Examinando as duas decisões que consta como 'Deferindo'\n",
    "df[df['teor'] == 'Deferindo']"
   ]
  },
  {
   "cell_type": "markdown",
   "id": "d6bf38de-514b-4743-9165-fb5ce91ebbdc",
   "metadata": {},
   "source": [
    "Se tratam de dois recursos especiais. Se foram deferidos, foram admitidos, logo o valor de y é 1 para estes.\n",
    "\n",
    "Para fins de organização, vamos mudar o valor dessa coluna para Concedendo."
   ]
  },
  {
   "cell_type": "code",
   "execution_count": 29,
   "id": "a5672f60-6b17-4af0-861a-e159edb73279",
   "metadata": {},
   "outputs": [
    {
     "data": {
      "text/plain": [
       "teor\n",
       "Não Conhecendo    3932\n",
       "Negando           1756\n",
       "Concedendo         603\n",
       "Name: count, dtype: int64"
      ]
     },
     "execution_count": 29,
     "metadata": {},
     "output_type": "execute_result"
    }
   ],
   "source": [
    "df['teor'] = df['teor'].replace('Deferindo', 'Concedendo')\n",
    "df['teor'].value_counts()"
   ]
  },
  {
   "cell_type": "code",
   "execution_count": 30,
   "id": "35c11e23-98f9-42ff-ad27-46acfe45130c",
   "metadata": {},
   "outputs": [],
   "source": [
    "#Criando a coluna y\n",
    "df['y'] = 0"
   ]
  },
  {
   "cell_type": "code",
   "execution_count": 31,
   "id": "a31d01b1-f757-48d2-add1-ae13dda7dcf5",
   "metadata": {},
   "outputs": [
    {
     "data": {
      "text/plain": [
       "teor\n",
       "Concedendo        376\n",
       "Não Conhecendo    199\n",
       "Negando           171\n",
       "Name: count, dtype: int64"
      ]
     },
     "execution_count": 31,
     "metadata": {},
     "output_type": "execute_result"
    }
   ],
   "source": [
    "#Verificando os valores para processos da classe REsp\n",
    "df[df['classeProcesso'] == 'REsp']['teor'].value_counts()"
   ]
  },
  {
   "cell_type": "code",
   "execution_count": 32,
   "id": "d3ce5dd5-e1bb-41ff-8227-a88076b6bc73",
   "metadata": {},
   "outputs": [
    {
     "data": {
      "text/plain": [
       "y\n",
       "1    547\n",
       "0    199\n",
       "Name: count, dtype: int64"
      ]
     },
     "execution_count": 32,
     "metadata": {},
     "output_type": "execute_result"
    }
   ],
   "source": [
    "#Coloca o y de acordo com os critérios acima para a coluna REsp.\n",
    "df['y'] = df.apply(lambda row:\n",
    "                   1 if row['classeProcesso'] == 'REsp' \n",
    "                   and row['teor'] == 'Concedendo' \n",
    "                   else row['y'], axis=1)\n",
    "df['y'] = df.apply(lambda row:\n",
    "                   1 if row['classeProcesso'] == 'REsp' \n",
    "                   and row['teor'] == 'Negando' \n",
    "                   else row['y'], axis=1)\n",
    "df[df['classeProcesso'] == 'REsp']['y'].value_counts()"
   ]
  },
  {
   "cell_type": "markdown",
   "id": "617971b2-840e-42d9-ae0b-f5b00e94701f",
   "metadata": {},
   "source": [
    "A substituição foi realizada corretamente.\n",
    "\n",
    "Resta examinar as decisões do Agravo em Recurso Especial."
   ]
  },
  {
   "cell_type": "code",
   "execution_count": 33,
   "id": "6f35dd1e-8192-4272-a637-37267cd72409",
   "metadata": {},
   "outputs": [
    {
     "data": {
      "text/plain": [
       "teor\n",
       "Não Conhecendo    3733\n",
       "Negando           1585\n",
       "Concedendo         227\n",
       "Name: count, dtype: int64"
      ]
     },
     "execution_count": 33,
     "metadata": {},
     "output_type": "execute_result"
    }
   ],
   "source": [
    "#Verificando os valores para processos da classe AREsp\n",
    "df[df['classeProcesso'] == 'AREsp']['teor'].value_counts()"
   ]
  },
  {
   "cell_type": "code",
   "execution_count": 34,
   "id": "ca283ccf-1683-498d-8946-94f9a666e019",
   "metadata": {},
   "outputs": [
    {
     "data": {
      "text/plain": [
       "y\n",
       "0    5318\n",
       "1     227\n",
       "Name: count, dtype: int64"
      ]
     },
     "execution_count": 34,
     "metadata": {},
     "output_type": "execute_result"
    }
   ],
   "source": [
    "#Coloca o y de acordo com os critérios acima para a coluna AREsp.\n",
    "df['y'] = df.apply(lambda row:\n",
    "                   1 if row['classeProcesso'] == 'AREsp' \n",
    "                   and row['teor'] == 'Concedendo' \n",
    "                   else row['y'], axis=1)\n",
    "df[df['classeProcesso'] == 'AREsp']['y'].value_counts()"
   ]
  },
  {
   "cell_type": "code",
   "execution_count": 35,
   "id": "a0c746b8-6531-4942-97b7-d21a4c978702",
   "metadata": {},
   "outputs": [
    {
     "data": {
      "text/plain": [
       "y\n",
       "0    5517\n",
       "1     774\n",
       "Name: count, dtype: int64"
      ]
     },
     "execution_count": 35,
     "metadata": {},
     "output_type": "execute_result"
    }
   ],
   "source": [
    "df['y'].value_counts()"
   ]
  },
  {
   "cell_type": "markdown",
   "id": "eea08349-ae36-41cb-a35b-43209eb85d08",
   "metadata": {},
   "source": [
    "#### 2.7 Salvando o dataframe para as etapas seguintes\n",
    "\n",
    "O pré-processamento e filtragem estão completos, o dataframe pode ser salvo para as etapas seguintes."
   ]
  },
  {
   "cell_type": "code",
   "execution_count": 36,
   "id": "aa32a185-1ed2-4373-84bc-3d456d70aa55",
   "metadata": {},
   "outputs": [],
   "source": [
    "df.to_feather('./dataframes/filtered_dataframe.feather')"
   ]
  }
 ],
 "metadata": {
  "kernelspec": {
   "display_name": "Python 3 (ipykernel)",
   "language": "python",
   "name": "python3"
  },
  "language_info": {
   "codemirror_mode": {
    "name": "ipython",
    "version": 3
   },
   "file_extension": ".py",
   "mimetype": "text/x-python",
   "name": "python",
   "nbconvert_exporter": "python",
   "pygments_lexer": "ipython3",
   "version": "3.12.3"
  }
 },
 "nbformat": 4,
 "nbformat_minor": 5
}
