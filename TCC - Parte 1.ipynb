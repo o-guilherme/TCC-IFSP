{
 "cells": [
  {
   "cell_type": "markdown",
   "id": "36594156-4e01-4a6a-9414-78457f899505",
   "metadata": {},
   "source": [
    "# IFSP - Câmpus Campinas\n",
    "\n",
    "## Análise sobre a previsibilidade das decisões de admissibilidade no Superior Tribunal de Justiça usando inteligência artificial\n",
    "\n",
    "#### Aluno: Guilherme Cioldin Dainese\n",
    "\n",
    "### Parte 1 - Carregamento dos dados abertos do Superior Tribunal de Justiça"
   ]
  },
  {
   "cell_type": "markdown",
   "id": "1c2aeb0e-4448-4417-94ff-50f3190726c7",
   "metadata": {},
   "source": [
    "O Superior Tribunal de Justiça (STJ) utiliza um portal para disponibilizar dados do Tribunal para acesso público. O portal está disponível no endereço https://dadosabertos.web.stj.jus.br/.\n",
    "\n",
    "O dataset específico para esse trabalho é o \"Íntegras de Decisões Terminativas e Acórdãos do Diário da Justiça\", com o link específico: https://dadosabertos.web.stj.jus.br/dataset/integras-de-decisoes-terminativas-e-acordaos-do-diario-da-justica.\n",
    "\n",
    "Esse dataset possui as decisões monocráticas indicadas pelos gabinetes de ministros como terminativas e que tenham sido proferidas diretamente no processo principal.\n",
    "\n",
    "O dataset possui três tipos de arquivos. Primeiro, um arquivo .csv que é utilizado unicamente como dicionário das entradas nos arquivos JSON. Os arquivos JSON por sua vez possuem os metadados das decisões e por fim, cada entrada possui um arquivo .zip com o texto das decisões em si.\n",
    "\n",
    "Os arquivos .zip serão ignorados pois os dados serão processados diretamente das petições constantes dos processos judiciais.\n",
    "\n",
    "Todavia, será feito o download dos arquivos .json para construir a base de dados inicial que permitirá a seleção das petições."
   ]
  },
  {
   "cell_type": "code",
   "execution_count": 1,
   "id": "dc71821b-e9bd-4086-b861-8f30c6e36417",
   "metadata": {},
   "outputs": [],
   "source": [
    "from pprint import pprint\n",
    "from time import sleep\n",
    "from tqdm.notebook import tqdm\n",
    "import json\n",
    "import pandas as pd\n",
    "import re\n",
    "import requests"
   ]
  },
  {
   "cell_type": "code",
   "execution_count": 2,
   "id": "f77175dd-c1e8-46b0-8a94-0f199c27cd08",
   "metadata": {},
   "outputs": [],
   "source": [
    "#Endereço da raiz da base de dados do CNJ\n",
    "api_url_root = 'https://dadosabertos.web.stj.jus.br/'\n",
    "#Lista de pacotes seguindo o esquema da API CKAN\n",
    "package_list = 'api/3/action/package_list'"
   ]
  },
  {
   "cell_type": "code",
   "execution_count": 3,
   "id": "27aab76c-145b-4da6-b2cf-30819afa25a1",
   "metadata": {},
   "outputs": [
    {
     "name": "stdout",
     "output_type": "stream",
     "text": [
      "{'help': 'https://dadosabertos.web.stj.jus.br/api/3/action/help_show?name=package_list',\n",
      " 'result': ['api-publica-datajud',\n",
      "            'atas-de-distribuicao',\n",
      "            'espelhos-de-acordaos-corte-especial',\n",
      "            'espelhos-de-acordaos-primeira-secao',\n",
      "            'espelhos-de-acordaos-primeira-turma',\n",
      "            'espelhos-de-acordaos-quarta-turma',\n",
      "            'espelhos-de-acordaos-quinta-turma',\n",
      "            'espelhos-de-acordaos-segunda-secao',\n",
      "            'espelhos-de-acordaos-segunda-turma',\n",
      "            'espelhos-de-acordaos-sexta-turma',\n",
      "            'espelhos-de-acordaos-terceira-secao',\n",
      "            'espelhos-de-acordaos-terceira-turma',\n",
      "            'integras-de-decisoes-terminativas-e-acordaos-do-diario-da-justica',\n",
      "            'movimentacao-processual',\n",
      "            'plano-estrategico-stj',\n",
      "            'precedentes-qualificados'],\n",
      " 'success': True}\n"
     ]
    }
   ],
   "source": [
    "#Exibe a lista de pacotes\n",
    "pprint(requests.get(api_url_root + package_list).json())"
   ]
  },
  {
   "cell_type": "markdown",
   "id": "772c6e3d-3589-43e9-ba7b-c3c771c330f9",
   "metadata": {},
   "source": [
    "O pacote está identificado como `integras-de-decisoes-terminativas-e-acordaos-do-diario-da-justica`"
   ]
  },
  {
   "cell_type": "code",
   "execution_count": 4,
   "id": "004e6997-6b0f-474e-9f2c-e16ad990ccb5",
   "metadata": {},
   "outputs": [],
   "source": [
    "package_id = 'integras-de-decisoes-terminativas-e-acordaos-do-diario-da-justica'"
   ]
  },
  {
   "cell_type": "code",
   "execution_count": 5,
   "id": "a57f2330-9be9-4239-89de-5aaa0289bbf2",
   "metadata": {},
   "outputs": [],
   "source": [
    "#Carrega dados de pacote da API do STJ\n",
    "response = requests.get(f'{api_url_root}/api/3/action/package_show?id={package_id}') #Comando padrão da API CKAN para carregar os dados\n",
    "package_info = json.loads(response.text) #Carrega o arquivo .json\n",
    "resources = package_info['result']['resources'] #Salva os recursos da query"
   ]
  },
  {
   "cell_type": "code",
   "execution_count": 6,
   "id": "f3826923-a80d-4a66-8bc9-b7ab7a4ec48d",
   "metadata": {},
   "outputs": [
    {
     "data": {
      "text/plain": [
       "{'cache_last_updated': None,\n",
       " 'cache_url': None,\n",
       " 'created': '2022-05-19T20:01:02.643048',\n",
       " 'datastore_active': False,\n",
       " 'description': 'Dicionário de dados. ',\n",
       " 'format': 'CSV',\n",
       " 'hash': '',\n",
       " 'id': '0488e8aa-33a3-494d-86ef-17889a0155ee',\n",
       " 'last_modified': '2022-05-19T20:01:02.627455',\n",
       " 'metadata_modified': '2022-05-19T20:02:05.698389',\n",
       " 'mimetype': 'text/csv',\n",
       " 'mimetype_inner': None,\n",
       " 'name': 'dicionariointegrasdecisoes.csv',\n",
       " 'package_id': 'a2cd85cc-1391-4ebc-aeed-a45dd75a7987',\n",
       " 'position': 0,\n",
       " 'resource_type': None,\n",
       " 'size': 1536,\n",
       " 'state': 'active',\n",
       " 'url': 'https://dadosabertos.web.stj.jus.br/dataset/a2cd85cc-1391-4ebc-aeed-a45dd75a7987/resource/0488e8aa-33a3-494d-86ef-17889a0155ee/download/dicionariointegrasdecisoes.csv',\n",
       " 'url_type': 'upload'}"
      ]
     },
     "execution_count": 6,
     "metadata": {},
     "output_type": "execute_result"
    }
   ],
   "source": [
    "#Exibe o primeiro resultado\n",
    "resources[0]"
   ]
  },
  {
   "cell_type": "markdown",
   "id": "da00a0bc-ce34-4e95-9572-7684ebcd6152",
   "metadata": {},
   "source": [
    "Esse resultado é o arquivo .csv que é o dicionário das decisões do STJ nesse dataset."
   ]
  },
  {
   "cell_type": "code",
   "execution_count": 7,
   "id": "5fb55129-e195-445c-b8e8-566f2d904e7c",
   "metadata": {},
   "outputs": [],
   "source": [
    "dicionario = requests.get(resources[0]['url'])\n",
    "if dicionario.status_code == 200:\n",
    "        with open(f\"./misc/{resources[0]['name']}\", 'xb') as f:\n",
    "            f.write(dicionario.content.decode('iso-8859-1').encode('utf-8'))\n",
    "    #Foi necessário converter a codificação do arquivo."
   ]
  },
  {
   "cell_type": "markdown",
   "id": "163da249-db38-407a-9792-f32cc59b7de4",
   "metadata": {},
   "source": [
    "Salvo o arquivo de dicionário, resta fazer o download dos arquivos de metadados.\n",
    "\n",
    "Considerando a entrada em vigor da emenda constitucional n.º 125 de 2022, serão selecionados apenas os processos com data de decisão no STJ posterior a setembro de 2022."
   ]
  },
  {
   "cell_type": "code",
   "execution_count": 8,
   "id": "bb0a1f02-4882-405e-a205-febeac87ffc4",
   "metadata": {},
   "outputs": [],
   "source": [
    "# Filtrar apenas os arquivos do tipo JSON\n",
    "arquivos_json = [resource for resource in resources if resource[\"format\"].lower() == \"json\"]"
   ]
  },
  {
   "cell_type": "markdown",
   "id": "e14a5e63-ac90-41c5-b441-a76a3eb54837",
   "metadata": {},
   "source": [
    "Os arquivos variam de nome entre metadados\\[ano]\\[mês]\\[dia].json.\n",
    "\n",
    "Para filtrar as decisões posteriores a essa data utilizaremos expressões regulares."
   ]
  },
  {
   "cell_type": "code",
   "execution_count": 9,
   "id": "8c37ec25-bb71-4217-8032-04c72179469c",
   "metadata": {},
   "outputs": [],
   "source": [
    "#Cria expressão regular para excluir as entradas anteriores a setembro de 2022.\n",
    "#Não há necessidade de controlar os anos na expressão regular pois a primeira entrada é em março de 2022.\n",
    "pattern = re.compile(r'metadados20220[1-8]')\n",
    "json_selecionados = [resource for resource in arquivos_json if not pattern.match(resource[\"name\"])]"
   ]
  },
  {
   "cell_type": "code",
   "execution_count": 10,
   "id": "03e876c5-028a-441f-9f6e-e0189fd1c7ee",
   "metadata": {},
   "outputs": [
    {
     "data": {
      "application/vnd.jupyter.widget-view+json": {
       "model_id": "308faf33250845919499eff201802313",
       "version_major": 2,
       "version_minor": 0
      },
      "text/plain": [
       "  0%|          | 0/314 [00:00<?, ?it/s]"
      ]
     },
     "metadata": {},
     "output_type": "display_data"
    },
    {
     "name": "stdout",
     "output_type": "stream",
     "text": [
      "Falha ao baixar metadados20221027.json, status code: 520\n",
      "Falha ao baixar metadados20221107.json, status code: 520\n",
      "Falha ao baixar metadados20221124.json, status code: 520\n",
      "Falha ao baixar metadados20230130.json, status code: 520\n",
      "Falha ao baixar metadados20230223.json, status code: 520\n",
      "Falha ao baixar metadados20230629.json, status code: 520\n",
      "Falha ao baixar metadados20230706.json, status code: 520\n",
      "Falha ao baixar metadados20231109.json, status code: 520\n",
      "Falha ao baixar metadados20231110.json, status code: 520\n",
      "Falha ao baixar metadados20240110.json, status code: 520\n"
     ]
    }
   ],
   "source": [
    "# Itera sobre todas as entradas selecionadas para baixar os arquivos de metadados\n",
    "arquivos_falha = []\n",
    "\n",
    "for resource in tqdm(json_selecionados):\n",
    "    response = requests.get(resource[\"url\"])\n",
    "    if response.status_code == 200:\n",
    "        with open('./json_metadados/' + resource[\"name\"], 'xb') as file:\n",
    "            file.write(response.content)\n",
    "    else:\n",
    "        print(f\"Falha ao baixar {resource['name']}, status code: {response.status_code}\")\n",
    "        arquivos_falha.append(resource['name'])"
   ]
  },
  {
   "cell_type": "code",
   "execution_count": 11,
   "id": "5b4090d2-5540-4148-a14e-fd3adbbe7c20",
   "metadata": {},
   "outputs": [
    {
     "data": {
      "text/plain": [
       "['metadados20221123.json',\n",
       " 'metadados20221205.json',\n",
       " 'metadados20221215.json',\n",
       " 'metadados20221216.json',\n",
       " 'metadados20221219.json',\n",
       " 'metadados20221220.json']"
      ]
     },
     "execution_count": 11,
     "metadata": {},
     "output_type": "execute_result"
    }
   ],
   "source": [
    "arquivos_falha"
   ]
  },
  {
   "cell_type": "code",
   "execution_count": null,
   "id": "e8cab94c-d3b0-4ebb-b442-20cc6ed0a0a3",
   "metadata": {},
   "outputs": [],
   "source": []
  },
  {
   "cell_type": "code",
   "execution_count": null,
   "id": "ab737149-29b5-4d2e-979c-b9bd74b7dcb7",
   "metadata": {},
   "outputs": [],
   "source": []
  },
  {
   "cell_type": "code",
   "execution_count": null,
   "id": "de5dd03b-1ea5-4ac7-9b1f-33b252ff1819",
   "metadata": {},
   "outputs": [],
   "source": []
  },
  {
   "cell_type": "markdown",
   "id": "f24b36d9-b0c8-4e73-b673-33cdf949093a",
   "metadata": {},
   "source": [
    "Realizado o download, resta apenas unir os arquivos em um único dataframe para posterior processamento."
   ]
  },
  {
   "cell_type": "code",
   "execution_count": null,
   "id": "cbe7c1b4-d42d-402c-85ff-d832f2849d04",
   "metadata": {},
   "outputs": [],
   "source": [
    "#Une todos os metadados em um único dataframe\n",
    "dfs = []\n",
    "for json in json_selecionados:\n",
    "    df = pd.read_json(f\"./json_metadados/{json['name']}\")\n",
    "    dfs.append(df)\n",
    "#Retorna um dataframe único com todos os dados baixados\n",
    "dataframe = pd.concat(dfs, ignore_index=True)"
   ]
  },
  {
   "cell_type": "code",
   "execution_count": null,
   "id": "6ce4fd9b-3b40-4899-b9a4-d119e5e99193",
   "metadata": {},
   "outputs": [],
   "source": [
    "#Exibe do dataframe concatenado\n",
    "dataframe"
   ]
  },
  {
   "cell_type": "markdown",
   "id": "b797e683-e3bc-4f89-8e63-33b4eea10c3e",
   "metadata": {},
   "source": [
    "Todos os dados relevantes disponíveis no repositório já foram baixados e unidos em um único dataframe. Salvaremos o arquivo para seguir com o processamento.\n",
    "\n",
    "A opção de arquivo (feather) é utilizada para permitir maior rapidez de salvamento e menor espaço."
   ]
  },
  {
   "cell_type": "code",
   "execution_count": null,
   "id": "2a8ca9d2-e577-4a66-9d88-bd997b9cc73b",
   "metadata": {},
   "outputs": [],
   "source": [
    "dataframe.to_feather('./dataframes/json_raw.feather')"
   ]
  },
  {
   "cell_type": "code",
   "execution_count": null,
   "id": "aeb6085a-beff-4edd-a485-75a49c0af3a8",
   "metadata": {},
   "outputs": [],
   "source": [
    "#751914 rows × 12 columns"
   ]
  }
 ],
 "metadata": {
  "kernelspec": {
   "display_name": "Python 3 (ipykernel)",
   "language": "python",
   "name": "python3"
  },
  "language_info": {
   "codemirror_mode": {
    "name": "ipython",
    "version": 3
   },
   "file_extension": ".py",
   "mimetype": "text/x-python",
   "name": "python",
   "nbconvert_exporter": "python",
   "pygments_lexer": "ipython3",
   "version": "3.11.5"
  }
 },
 "nbformat": 4,
 "nbformat_minor": 5
}
