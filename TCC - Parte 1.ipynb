{
 "cells": [
  {
   "cell_type": "markdown",
   "id": "36594156-4e01-4a6a-9414-78457f899505",
   "metadata": {},
   "source": [
    "# IFSP - Câmpus Campinas\n",
    "\n",
    "## Análise sobre a previsibilidade das decisões de admissibilidade no Superior Tribunal de Justiça usando inteligência artificial\n",
    "\n",
    "#### Aluno: Guilherme Cioldin Dainese\n",
    "\n",
    "### Parte 1 - Carregamento dos dados abertos do Superior Tribunal de Justiça"
   ]
  },
  {
   "cell_type": "markdown",
   "id": "1c2aeb0e-4448-4417-94ff-50f3190726c7",
   "metadata": {},
   "source": [
    "O Superior Tribunal de Justiça (STJ) utiliza um portal para disponibilizar dados do Tribunal para acesso público. O portal está disponível no endereço https://dadosabertos.web.stj.jus.br/.\n",
    "\n",
    "O dataset específico para esse trabalho é o \"Íntegras de Decisões Terminativas e Acórdãos do Diário da Justiça\", com o link específico: https://dadosabertos.web.stj.jus.br/dataset/integras-de-decisoes-terminativas-e-acordaos-do-diario-da-justica.\n",
    "\n",
    "Esse dataset possui as decisões monocráticas indicadas pelos gabinetes de ministros como terminativas e que tenham sido proferidas diretamente no processo principal.\n",
    "\n",
    "O dataset possui três tipos de arquivos. Primeiro, um arquivo .csv que é utilizado unicamente como dicionário das entradas nos arquivos JSON. Os arquivos JSON por sua vez possuem os metadados das decisões e por fim, cada entrada possui um arquivo .zip com o texto das decisões em si.\n",
    "\n",
    "Os arquivos .zip serão ignorados pois os dados serão processados diretamente das petições constantes dos processos judiciais.\n",
    "\n",
    "Todavia, será feito o download dos arquivos .json para construir a base de dados inicial que permitirá a seleção das petições."
   ]
  },
  {
   "cell_type": "code",
   "execution_count": 1,
   "id": "dc71821b-e9bd-4086-b861-8f30c6e36417",
   "metadata": {},
   "outputs": [],
   "source": [
    "from pprint import pprint\n",
    "from time import sleep\n",
    "from tqdm.notebook import tqdm\n",
    "import json\n",
    "import pandas as pd\n",
    "import re\n",
    "import requests\n",
    "import os\n",
    "from time import sleep"
   ]
  },
  {
   "cell_type": "code",
   "execution_count": 2,
   "id": "f77175dd-c1e8-46b0-8a94-0f199c27cd08",
   "metadata": {},
   "outputs": [],
   "source": [
    "#Endereço da raiz da base de dados do CNJ\n",
    "api_url_root = 'https://dadosabertos.web.stj.jus.br/'\n",
    "#Lista de pacotes seguindo o esquema da API CKAN\n",
    "package_list = 'api/3/action/package_list'"
   ]
  },
  {
   "cell_type": "code",
   "execution_count": 3,
   "id": "27aab76c-145b-4da6-b2cf-30819afa25a1",
   "metadata": {},
   "outputs": [
    {
     "name": "stdout",
     "output_type": "stream",
     "text": [
      "{'help': 'https://dadosabertos.web.stj.jus.br/api/3/action/help_show?name=package_list',\n",
      " 'result': ['api-publica-datajud',\n",
      "            'atas-de-distribuicao',\n",
      "            'espelhos-de-acordaos-corte-especial',\n",
      "            'espelhos-de-acordaos-primeira-secao',\n",
      "            'espelhos-de-acordaos-primeira-turma',\n",
      "            'espelhos-de-acordaos-quarta-turma',\n",
      "            'espelhos-de-acordaos-quinta-turma',\n",
      "            'espelhos-de-acordaos-segunda-secao',\n",
      "            'espelhos-de-acordaos-segunda-turma',\n",
      "            'espelhos-de-acordaos-sexta-turma',\n",
      "            'espelhos-de-acordaos-terceira-secao',\n",
      "            'espelhos-de-acordaos-terceira-turma',\n",
      "            'integras-de-decisoes-terminativas-e-acordaos-do-diario-da-justica',\n",
      "            'movimentacao-processual',\n",
      "            'plano-estrategico-stj',\n",
      "            'precedentes-qualificados'],\n",
      " 'success': True}\n"
     ]
    }
   ],
   "source": [
    "#Exibe a lista de pacotes\n",
    "pprint(requests.get(api_url_root + package_list).json())"
   ]
  },
  {
   "cell_type": "markdown",
   "id": "772c6e3d-3589-43e9-ba7b-c3c771c330f9",
   "metadata": {},
   "source": [
    "O pacote está identificado como `integras-de-decisoes-terminativas-e-acordaos-do-diario-da-justica`"
   ]
  },
  {
   "cell_type": "code",
   "execution_count": 4,
   "id": "004e6997-6b0f-474e-9f2c-e16ad990ccb5",
   "metadata": {},
   "outputs": [],
   "source": [
    "package_id = 'integras-de-decisoes-terminativas-e-acordaos-do-diario-da-justica'"
   ]
  },
  {
   "cell_type": "code",
   "execution_count": 5,
   "id": "a57f2330-9be9-4239-89de-5aaa0289bbf2",
   "metadata": {},
   "outputs": [],
   "source": [
    "#Carrega dados de pacote da API do STJ\n",
    "response = requests.get(f'{api_url_root}/api/3/action/package_show?id={package_id}') #Comando padrão da API CKAN para carregar os dados\n",
    "package_info = json.loads(response.text) #Carrega o arquivo .json\n",
    "resources = package_info['result']['resources'] #Salva os recursos da query"
   ]
  },
  {
   "cell_type": "code",
   "execution_count": 6,
   "id": "f3826923-a80d-4a66-8bc9-b7ab7a4ec48d",
   "metadata": {},
   "outputs": [
    {
     "data": {
      "text/plain": [
       "{'cache_last_updated': None,\n",
       " 'cache_url': None,\n",
       " 'created': '2022-05-19T20:01:02.643048',\n",
       " 'datastore_active': False,\n",
       " 'description': 'Dicionário de dados. ',\n",
       " 'format': 'CSV',\n",
       " 'hash': '',\n",
       " 'id': '0488e8aa-33a3-494d-86ef-17889a0155ee',\n",
       " 'last_modified': '2022-05-19T20:01:02.627455',\n",
       " 'metadata_modified': '2022-05-19T20:02:05.698389',\n",
       " 'mimetype': 'text/csv',\n",
       " 'mimetype_inner': None,\n",
       " 'name': 'dicionariointegrasdecisoes.csv',\n",
       " 'package_id': 'a2cd85cc-1391-4ebc-aeed-a45dd75a7987',\n",
       " 'position': 0,\n",
       " 'resource_type': None,\n",
       " 'size': 1536,\n",
       " 'state': 'active',\n",
       " 'url': 'https://dadosabertos.web.stj.jus.br/dataset/a2cd85cc-1391-4ebc-aeed-a45dd75a7987/resource/0488e8aa-33a3-494d-86ef-17889a0155ee/download/dicionariointegrasdecisoes.csv',\n",
       " 'url_type': 'upload'}"
      ]
     },
     "execution_count": 6,
     "metadata": {},
     "output_type": "execute_result"
    }
   ],
   "source": [
    "#Exibe o primeiro resultado\n",
    "resources[0]"
   ]
  },
  {
   "cell_type": "markdown",
   "id": "da00a0bc-ce34-4e95-9572-7684ebcd6152",
   "metadata": {},
   "source": [
    "Esse resultado é o arquivo .csv que é o dicionário das decisões do STJ nesse dataset."
   ]
  },
  {
   "cell_type": "code",
   "execution_count": 7,
   "id": "5fb55129-e195-445c-b8e8-566f2d904e7c",
   "metadata": {},
   "outputs": [],
   "source": [
    "dicionario = requests.get(resources[0]['url'])\n",
    "if not os.path.exists('misc'):\n",
    "    os.makedirs('misc')\n",
    "if not os.path.exists('misc/dicionariointegrasdecisoes.csv'):\n",
    "    with open('misc/dicionariointegrasdecisoes.csv', 'w') as file:\n",
    "        file.write(\"\")\n",
    "if dicionario.status_code == 200:\n",
    "        with open(f\"./misc/{resources[0]['name']}\", 'wb') as f:\n",
    "            f.write(dicionario.content.decode('iso-8859-1').encode('utf-8'))\n",
    "#Foi necessário converter a codificação do arquivo."
   ]
  },
  {
   "cell_type": "markdown",
   "id": "163da249-db38-407a-9792-f32cc59b7de4",
   "metadata": {},
   "source": [
    "Salvo o arquivo de dicionário, resta fazer o download dos arquivos de metadados.\n",
    "\n",
    "Considerando a entrada em vigor da emenda constitucional n.º 125 de 2022, serão selecionados apenas os processos com data de decisão no STJ posterior a setembro de 2022."
   ]
  },
  {
   "cell_type": "code",
   "execution_count": 8,
   "id": "bb0a1f02-4882-405e-a205-febeac87ffc4",
   "metadata": {},
   "outputs": [],
   "source": [
    "# Filtrar apenas os arquivos do tipo JSON\n",
    "arquivos_json = [resource for resource in resources if resource[\"format\"].lower() == \"json\"]"
   ]
  },
  {
   "cell_type": "markdown",
   "id": "e14a5e63-ac90-41c5-b441-a76a3eb54837",
   "metadata": {},
   "source": [
    "Os arquivos variam de nome entre metadados\\[ano]\\[mês]\\[dia].json.\n",
    "\n",
    "Para filtrar as decisões posteriores a essa data utilizaremos expressões regulares."
   ]
  },
  {
   "cell_type": "code",
   "execution_count": 9,
   "id": "8c37ec25-bb71-4217-8032-04c72179469c",
   "metadata": {},
   "outputs": [],
   "source": [
    "#Cria expressão regular para excluir as entradas anteriores a setembro de 2022.\n",
    "#Não há necessidade de controlar os anos na expressão regular pois a primeira entrada é em março de 2022.\n",
    "pattern = re.compile(r'metadados20220[1-8]')\n",
    "json_selecionados = [resource for resource in arquivos_json if not pattern.match(resource[\"name\"])]"
   ]
  },
  {
   "cell_type": "code",
   "execution_count": 10,
   "id": "86fbd4d1-2e26-47a2-a833-d98ee3e00bc0",
   "metadata": {},
   "outputs": [
    {
     "name": "stdout",
     "output_type": "stream",
     "text": [
      "Carregada lista de dados baixadas do portal do STJ.\n"
     ]
    }
   ],
   "source": [
    "#Essa célula é para carregar a lista de documentos utilizada para o projeto é a mesma do original.\n",
    "#Aqui mantida somente para assegurar a reprodutibilidade dos dados.\n",
    "salvar_dados = None\n",
    "if json_selecionados[-1]['name']!='metadados20240115.json':\n",
    "    with open('misc/lista_documentos.json', 'r') as file:\n",
    "        json_selecionados = json.load(file)\n",
    "        salvar_dados = False\n",
    "        print('Carregada lista de dados original.')\n",
    "else:\n",
    "    print('Carregada lista de dados baixadas do portal do STJ.')\n",
    "    salvar_dados = True"
   ]
  },
  {
   "cell_type": "code",
   "execution_count": 11,
   "id": "d48d7ea8-096a-4f1c-8a0f-15e5e12a2e18",
   "metadata": {},
   "outputs": [
    {
     "name": "stdout",
     "output_type": "stream",
     "text": [
      "Dados salvos em lista_documentos.json.\n"
     ]
    }
   ],
   "source": [
    "if salvar_dados == True:\n",
    "    with open('misc/lista_documentos.json', 'w') as file:\n",
    "            json.dump(json_selecionados, file, indent=4)\n",
    "    print('Dados salvos em lista_documentos.json.')"
   ]
  },
  {
   "cell_type": "code",
   "execution_count": 12,
   "id": "36e0b529-44e4-4e5e-92e8-9404521f45d2",
   "metadata": {},
   "outputs": [],
   "source": [
    "#Cria pasta para os metadados em json\n",
    "if not os.path.exists('json_metadados'):\n",
    "    os.makedirs('json_metadados')"
   ]
  },
  {
   "cell_type": "code",
   "execution_count": 13,
   "id": "03e876c5-028a-441f-9f6e-e0189fd1c7ee",
   "metadata": {},
   "outputs": [
    {
     "data": {
      "application/vnd.jupyter.widget-view+json": {
       "model_id": "bf10a2d01f864e0bb2479a549db6dea5",
       "version_major": 2,
       "version_minor": 0
      },
      "text/plain": [
       "  0%|          | 0/314 [00:00<?, ?it/s]"
      ]
     },
     "metadata": {},
     "output_type": "display_data"
    }
   ],
   "source": [
    "# Itera sobre todas as entradas selecionadas para baixar os arquivos de metadados\n",
    "arquivos_falha = []\n",
    "\n",
    "for resource in tqdm(json_selecionados):\n",
    "    if os.path.exists(f'json_metadados/{resource['name']}'):\n",
    "        continue #Pula o download se o arquivo já foi baixado anteriormente\n",
    "    \n",
    "    response = requests.get(resource[\"url\"])\n",
    "    if response.status_code == 200:\n",
    "        with open('./json_metadados/' + resource[\"name\"], 'xb') as file:\n",
    "            file.write(response.content)\n",
    "    else:\n",
    "        print(f\"Falha ao baixar {resource['name']}, status code: {response.status_code}\")\n",
    "        arquivos_falha.append(resource)"
   ]
  },
  {
   "cell_type": "code",
   "execution_count": 14,
   "id": "6a2179cd-5ff5-4d34-9246-017b679ec592",
   "metadata": {},
   "outputs": [
    {
     "name": "stdout",
     "output_type": "stream",
     "text": [
      "Não há mais arquivos a serem baixados.\n"
     ]
    }
   ],
   "source": [
    "#Execute essa célula quanto necessário até o download de todos os arquivos completar.\n",
    "#Repita até aparecer que não há mais arquivos a serem baixados.\n",
    "lista_temp_arquivos = arquivos_falha.copy()\n",
    "if len(lista_temp_arquivos) == 0:\n",
    "        print('Não há mais arquivos a serem baixados.')\n",
    "else:\n",
    "    for item in lista_temp_arquivos:\n",
    "        resource = arquivos_falha.pop(0)\n",
    "        if os.path.exists(f'json_metadados/{resource['name']}'):\n",
    "            continue #Pula o download se o arquivo já foi baixado anteriormente\n",
    "        response = requests.get(resource[\"url\"])\n",
    "        if response.status_code == 200:\n",
    "            with open('./json_metadados/' + resource[\"name\"], 'xb') as file:\n",
    "                file.write(response.content)\n",
    "            print(f' Arquivo {resource[\"name\"]} baixado com sucesso.')     \n",
    "        else:\n",
    "            print(f\"Falha ao baixar {resource['name']}, status code: {response.status_code}\")\n",
    "            arquivos_falha.append(resource)"
   ]
  },
  {
   "cell_type": "markdown",
   "id": "f24b36d9-b0c8-4e73-b673-33cdf949093a",
   "metadata": {},
   "source": [
    "Realizado o download, resta apenas unir os arquivos em um único dataframe para posterior processamento."
   ]
  },
  {
   "cell_type": "code",
   "execution_count": 15,
   "id": "cbe7c1b4-d42d-402c-85ff-d832f2849d04",
   "metadata": {},
   "outputs": [],
   "source": [
    "#Une todos os metadados em um único dataframe\n",
    "dfs = []\n",
    "for entrada_json in json_selecionados:\n",
    "    df = pd.read_json(f\"./json_metadados/{entrada_json['name']}\")\n",
    "    dfs.append(df)\n",
    "#Retorna um dataframe único com todos os dados baixados\n",
    "dataframe = pd.concat(dfs, ignore_index=True)"
   ]
  },
  {
   "cell_type": "code",
   "execution_count": 16,
   "id": "6ce4fd9b-3b40-4899-b9a4-d119e5e99193",
   "metadata": {},
   "outputs": [
    {
     "data": {
      "text/html": [
       "<div>\n",
       "<style scoped>\n",
       "    .dataframe tbody tr th:only-of-type {\n",
       "        vertical-align: middle;\n",
       "    }\n",
       "\n",
       "    .dataframe tbody tr th {\n",
       "        vertical-align: top;\n",
       "    }\n",
       "\n",
       "    .dataframe thead th {\n",
       "        text-align: right;\n",
       "    }\n",
       "</style>\n",
       "<table border=\"1\" class=\"dataframe\">\n",
       "  <thead>\n",
       "    <tr style=\"text-align: right;\">\n",
       "      <th></th>\n",
       "      <th>seqDocumento</th>\n",
       "      <th>dataPublicacao</th>\n",
       "      <th>tipoDocumento</th>\n",
       "      <th>numeroRegistro</th>\n",
       "      <th>processo</th>\n",
       "      <th>dataRecebimento</th>\n",
       "      <th>dataDistribuicao</th>\n",
       "      <th>ministro</th>\n",
       "      <th>recurso</th>\n",
       "      <th>teor</th>\n",
       "      <th>descricaoMonocratica</th>\n",
       "      <th>assuntos</th>\n",
       "    </tr>\n",
       "  </thead>\n",
       "  <tbody>\n",
       "    <tr>\n",
       "      <th>0</th>\n",
       "      <td>163410022</td>\n",
       "      <td>1662001200000</td>\n",
       "      <td>ACÓRDÃO</td>\n",
       "      <td>202103427345</td>\n",
       "      <td>REsp 2005877</td>\n",
       "      <td>1634871600000</td>\n",
       "      <td>1635303600000</td>\n",
       "      <td>NANCY ANDRIGHI</td>\n",
       "      <td>None</td>\n",
       "      <td>Concedendo</td>\n",
       "      <td>None</td>\n",
       "      <td>5825;5825</td>\n",
       "    </tr>\n",
       "    <tr>\n",
       "      <th>1</th>\n",
       "      <td>162915181</td>\n",
       "      <td>1662001200000</td>\n",
       "      <td>ACÓRDÃO</td>\n",
       "      <td>202102019306</td>\n",
       "      <td>REsp 1946637</td>\n",
       "      <td>1624849200000</td>\n",
       "      <td>1626318000000</td>\n",
       "      <td>MANOEL ERHARDT (DESEMBARGADOR CONVOCADO DO TRF5)</td>\n",
       "      <td>AGRAVO INTERNO</td>\n",
       "      <td>Concedendo</td>\n",
       "      <td>None</td>\n",
       "      <td>6060;6060;5994</td>\n",
       "    </tr>\n",
       "    <tr>\n",
       "      <th>2</th>\n",
       "      <td>163409979</td>\n",
       "      <td>1662001200000</td>\n",
       "      <td>ACÓRDÃO</td>\n",
       "      <td>202102897496</td>\n",
       "      <td>REsp 1959435</td>\n",
       "      <td>1630638000000</td>\n",
       "      <td>1632366000000</td>\n",
       "      <td>NANCY ANDRIGHI</td>\n",
       "      <td>None</td>\n",
       "      <td>Concedendo</td>\n",
       "      <td>None</td>\n",
       "      <td>10470;10470</td>\n",
       "    </tr>\n",
       "    <tr>\n",
       "      <th>3</th>\n",
       "      <td>163239479</td>\n",
       "      <td>1662001200000</td>\n",
       "      <td>ACÓRDÃO</td>\n",
       "      <td>201301198451</td>\n",
       "      <td>REsp 1382933</td>\n",
       "      <td>1366945200000</td>\n",
       "      <td>1371006000000</td>\n",
       "      <td>ASSUSETE MAGALHÃES</td>\n",
       "      <td>AGRAVO INTERNO</td>\n",
       "      <td>Negando</td>\n",
       "      <td>None</td>\n",
       "      <td>10305;10221</td>\n",
       "    </tr>\n",
       "    <tr>\n",
       "      <th>4</th>\n",
       "      <td>163227292</td>\n",
       "      <td>1662001200000</td>\n",
       "      <td>ACÓRDÃO</td>\n",
       "      <td>202201220906</td>\n",
       "      <td>REsp 1999207</td>\n",
       "      <td>1651201200000</td>\n",
       "      <td>1653015600000</td>\n",
       "      <td>MARCO BUZZI</td>\n",
       "      <td>AGRAVO INTERNO</td>\n",
       "      <td>Negando</td>\n",
       "      <td>None</td>\n",
       "      <td>10496;10496;14919;14920</td>\n",
       "    </tr>\n",
       "    <tr>\n",
       "      <th>...</th>\n",
       "      <td>...</td>\n",
       "      <td>...</td>\n",
       "      <td>...</td>\n",
       "      <td>...</td>\n",
       "      <td>...</td>\n",
       "      <td>...</td>\n",
       "      <td>...</td>\n",
       "      <td>...</td>\n",
       "      <td>...</td>\n",
       "      <td>...</td>\n",
       "      <td>...</td>\n",
       "      <td>...</td>\n",
       "    </tr>\n",
       "    <tr>\n",
       "      <th>751909</th>\n",
       "      <td>224027345</td>\n",
       "      <td>1705284000000</td>\n",
       "      <td>DECISÃO</td>\n",
       "      <td>202301309450</td>\n",
       "      <td>AREsp 2343988</td>\n",
       "      <td>1681959600000</td>\n",
       "      <td>1684465200000</td>\n",
       "      <td>REYNALDO SOARES DA FONSECA</td>\n",
       "      <td>None</td>\n",
       "      <td>Concedendo</td>\n",
       "      <td>Agravo conhecido para dar parcial provimento a...</td>\n",
       "      <td>10621;3637;5555;5566;10621;12334</td>\n",
       "    </tr>\n",
       "    <tr>\n",
       "      <th>751910</th>\n",
       "      <td>223999858</td>\n",
       "      <td>1705284000000</td>\n",
       "      <td>DECISÃO</td>\n",
       "      <td>202301132414</td>\n",
       "      <td>HC 814406</td>\n",
       "      <td>1680577200000</td>\n",
       "      <td>1681095600000</td>\n",
       "      <td>REYNALDO SOARES DA FONSECA</td>\n",
       "      <td>None</td>\n",
       "      <td>Concedendo</td>\n",
       "      <td>Não conhecido o Habeas Corpus. Concedido o Hab...</td>\n",
       "      <td>3628;3628;3628</td>\n",
       "    </tr>\n",
       "    <tr>\n",
       "      <th>751911</th>\n",
       "      <td>224007770</td>\n",
       "      <td>1705284000000</td>\n",
       "      <td>DECISÃO</td>\n",
       "      <td>202301118658</td>\n",
       "      <td>AREsp 2330257</td>\n",
       "      <td>1680577200000</td>\n",
       "      <td>1681354800000</td>\n",
       "      <td>REYNALDO SOARES DA FONSECA</td>\n",
       "      <td>AGRAVO REGIMENTAL</td>\n",
       "      <td>Concedendo</td>\n",
       "      <td>Agravo conhecido para dar provimento ao Recurs...</td>\n",
       "      <td>3372;3372;10637</td>\n",
       "    </tr>\n",
       "    <tr>\n",
       "      <th>751912</th>\n",
       "      <td>224040816</td>\n",
       "      <td>1705284000000</td>\n",
       "      <td>DECISÃO</td>\n",
       "      <td>202002489460</td>\n",
       "      <td>AREsp 1764530</td>\n",
       "      <td>1600743600000</td>\n",
       "      <td>1601953200000</td>\n",
       "      <td>SEBASTIÃO REIS JÚNIOR</td>\n",
       "      <td>None</td>\n",
       "      <td>Concedendo</td>\n",
       "      <td>Agravo conhecido para dar provimento ao Recurs...</td>\n",
       "      <td>3608;3608</td>\n",
       "    </tr>\n",
       "    <tr>\n",
       "      <th>751913</th>\n",
       "      <td>224056232</td>\n",
       "      <td>1705284000000</td>\n",
       "      <td>DECISÃO</td>\n",
       "      <td>202400008931</td>\n",
       "      <td>SLS 3387</td>\n",
       "      <td>1704765600000</td>\n",
       "      <td>1704765600000</td>\n",
       "      <td>MARIA THEREZA DE ASSIS MOURA</td>\n",
       "      <td>None</td>\n",
       "      <td>Concedendo</td>\n",
       "      <td>Julgado procedente o pedido</td>\n",
       "      <td>10073;10073</td>\n",
       "    </tr>\n",
       "  </tbody>\n",
       "</table>\n",
       "<p>751914 rows × 12 columns</p>\n",
       "</div>"
      ],
      "text/plain": [
       "        seqDocumento  dataPublicacao tipoDocumento  numeroRegistro  \\\n",
       "0          163410022   1662001200000       ACÓRDÃO    202103427345   \n",
       "1          162915181   1662001200000       ACÓRDÃO    202102019306   \n",
       "2          163409979   1662001200000       ACÓRDÃO    202102897496   \n",
       "3          163239479   1662001200000       ACÓRDÃO    201301198451   \n",
       "4          163227292   1662001200000       ACÓRDÃO    202201220906   \n",
       "...              ...             ...           ...             ...   \n",
       "751909     224027345   1705284000000       DECISÃO    202301309450   \n",
       "751910     223999858   1705284000000       DECISÃO    202301132414   \n",
       "751911     224007770   1705284000000       DECISÃO    202301118658   \n",
       "751912     224040816   1705284000000       DECISÃO    202002489460   \n",
       "751913     224056232   1705284000000       DECISÃO    202400008931   \n",
       "\n",
       "                 processo  dataRecebimento  dataDistribuicao  \\\n",
       "0        REsp 2005877        1634871600000     1635303600000   \n",
       "1        REsp 1946637        1624849200000     1626318000000   \n",
       "2        REsp 1959435        1630638000000     1632366000000   \n",
       "3        REsp 1382933        1366945200000     1371006000000   \n",
       "4        REsp 1999207        1651201200000     1653015600000   \n",
       "...                   ...              ...               ...   \n",
       "751909  AREsp 2343988        1681959600000     1684465200000   \n",
       "751910     HC 814406         1680577200000     1681095600000   \n",
       "751911  AREsp 2330257        1680577200000     1681354800000   \n",
       "751912  AREsp 1764530        1600743600000     1601953200000   \n",
       "751913    SLS 3387           1704765600000     1704765600000   \n",
       "\n",
       "                                                ministro            recurso  \\\n",
       "0                                         NANCY ANDRIGHI               None   \n",
       "1       MANOEL ERHARDT (DESEMBARGADOR CONVOCADO DO TRF5)     AGRAVO INTERNO   \n",
       "2                                         NANCY ANDRIGHI               None   \n",
       "3                                     ASSUSETE MAGALHÃES     AGRAVO INTERNO   \n",
       "4                                            MARCO BUZZI     AGRAVO INTERNO   \n",
       "...                                                  ...                ...   \n",
       "751909                        REYNALDO SOARES DA FONSECA               None   \n",
       "751910                        REYNALDO SOARES DA FONSECA               None   \n",
       "751911                        REYNALDO SOARES DA FONSECA  AGRAVO REGIMENTAL   \n",
       "751912                             SEBASTIÃO REIS JÚNIOR               None   \n",
       "751913                      MARIA THEREZA DE ASSIS MOURA               None   \n",
       "\n",
       "              teor                               descricaoMonocratica  \\\n",
       "0       Concedendo                                               None   \n",
       "1       Concedendo                                               None   \n",
       "2       Concedendo                                               None   \n",
       "3          Negando                                               None   \n",
       "4          Negando                                               None   \n",
       "...            ...                                                ...   \n",
       "751909  Concedendo  Agravo conhecido para dar parcial provimento a...   \n",
       "751910  Concedendo  Não conhecido o Habeas Corpus. Concedido o Hab...   \n",
       "751911  Concedendo  Agravo conhecido para dar provimento ao Recurs...   \n",
       "751912  Concedendo  Agravo conhecido para dar provimento ao Recurs...   \n",
       "751913  Concedendo                        Julgado procedente o pedido   \n",
       "\n",
       "                                assuntos  \n",
       "0                              5825;5825  \n",
       "1                         6060;6060;5994  \n",
       "2                            10470;10470  \n",
       "3                            10305;10221  \n",
       "4                10496;10496;14919;14920  \n",
       "...                                  ...  \n",
       "751909  10621;3637;5555;5566;10621;12334  \n",
       "751910                    3628;3628;3628  \n",
       "751911                   3372;3372;10637  \n",
       "751912                         3608;3608  \n",
       "751913                       10073;10073  \n",
       "\n",
       "[751914 rows x 12 columns]"
      ]
     },
     "execution_count": 16,
     "metadata": {},
     "output_type": "execute_result"
    }
   ],
   "source": [
    "#Exibe do dataframe concatenado\n",
    "dataframe"
   ]
  },
  {
   "cell_type": "markdown",
   "id": "b797e683-e3bc-4f89-8e63-33b4eea10c3e",
   "metadata": {},
   "source": [
    "Todos os dados relevantes disponíveis no repositório já foram baixados e unidos em um único dataframe. Salvaremos o arquivo para seguir com o processamento.\n",
    "\n",
    "A opção de arquivo (feather) é utilizada para permitir maior rapidez de salvamento e menor espaço."
   ]
  },
  {
   "cell_type": "code",
   "execution_count": 17,
   "id": "c47aa875-78aa-4eee-81f8-412c76db2e38",
   "metadata": {},
   "outputs": [
    {
     "data": {
      "text/plain": [
       "(751914, 12)"
      ]
     },
     "execution_count": 17,
     "metadata": {},
     "output_type": "execute_result"
    }
   ],
   "source": [
    "dataframe.shape\n",
    "#751914 rows × 12 columns"
   ]
  },
  {
   "cell_type": "code",
   "execution_count": 18,
   "id": "2a8ca9d2-e577-4a66-9d88-bd997b9cc73b",
   "metadata": {},
   "outputs": [],
   "source": [
    "#Cria pasta para os metadados em json\n",
    "if not os.path.exists('dataframes'):\n",
    "    os.makedirs('dataframes')\n",
    "dataframe.to_feather('./dataframes/json_raw.feather')"
   ]
  }
 ],
 "metadata": {
  "kernelspec": {
   "display_name": "Python 3 (ipykernel)",
   "language": "python",
   "name": "python3"
  },
  "language_info": {
   "codemirror_mode": {
    "name": "ipython",
    "version": 3
   },
   "file_extension": ".py",
   "mimetype": "text/x-python",
   "name": "python",
   "nbconvert_exporter": "python",
   "pygments_lexer": "ipython3",
   "version": "3.12.3"
  }
 },
 "nbformat": 4,
 "nbformat_minor": 5
}
